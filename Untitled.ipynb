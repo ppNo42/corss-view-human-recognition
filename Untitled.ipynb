{
 "cells": [
  {
   "cell_type": "code",
   "execution_count": 1,
   "id": "1da304f2",
   "metadata": {},
   "outputs": [],
   "source": [
    "import data_process.get_dataset as mydata\n",
    "import torchvision\n",
    "from torch.utils.data import DataLoader\n",
    "import torch\n",
    "from torch import nn\n",
    "from d2l import torch as d2l"
   ]
  },
  {
   "cell_type": "code",
   "execution_count": 2,
   "id": "5f7ccb30",
   "metadata": {},
   "outputs": [],
   "source": [
    "#p = mydata.MyDataset(\"train\",18,(179,180),'nm')\n",
    "#print(len(p),p[35][0].shape,p.positive_sample[35],p[35][1])\n"
   ]
  },
  {
   "cell_type": "code",
   "execution_count": 3,
   "id": "dfb0ab4e",
   "metadata": {
    "scrolled": false
   },
   "outputs": [
    {
     "name": "stdout",
     "output_type": "stream",
     "text": [
      "Conv2d output shape: \t torch.Size([16, 16, 120, 80])\n",
      "ReLU output shape: \t torch.Size([16, 16, 120, 80])\n",
      "MaxPool2d output shape: \t torch.Size([16, 16, 60, 40])\n",
      "Conv2d output shape: \t torch.Size([16, 64, 54, 34])\n",
      "ReLU output shape: \t torch.Size([16, 64, 54, 34])\n",
      "MaxPool2d output shape: \t torch.Size([16, 64, 27, 17])\n",
      "Conv2d output shape: \t torch.Size([16, 256, 21, 11])\n",
      "Dropout output shape: \t torch.Size([16, 256, 21, 11])\n",
      "Flatten output shape: \t torch.Size([16, 59136])\n",
      "Linear output shape: \t torch.Size([16, 2])\n",
      "torch.Size([16, 2])\n"
     ]
    }
   ],
   "source": [
    "LBnet = nn.Sequential(\n",
    "    nn.Conv2d(2, 16, kernel_size=7, stride=1), nn.ReLU(),\n",
    "    nn.MaxPool2d(kernel_size=2, stride=2),\n",
    "    nn.Conv2d(16, 64, kernel_size=7,stride=1), nn.ReLU(),\n",
    "    nn.MaxPool2d(kernel_size=2, stride=2),\n",
    "    nn.Conv2d(64, 256, kernel_size=7,stride=1),\n",
    "    nn.Dropout(),\n",
    "    nn.Flatten(),\n",
    "    nn.Linear(256*21*11, 2))\n",
    "\n",
    "X = torch.rand(size=(16, 2, 126, 86), dtype=torch.float32)\n",
    "for layer in LBnet:\n",
    "    X = layer(X)\n",
    "    print(layer.__class__.__name__,'output shape: \\t',X.shape)\n",
    "    \n",
    "print(X.shape)"
   ]
  },
  {
   "cell_type": "code",
   "execution_count": 4,
   "id": "1efa0803",
   "metadata": {},
   "outputs": [],
   "source": [
    "batch_size = 128"
   ]
  },
  {
   "cell_type": "code",
   "execution_count": null,
   "id": "17b53c11",
   "metadata": {},
   "outputs": [],
   "source": [
    "train_iter = DataLoader(mydata.MyDataset(\"74p\",(0,0),(0,0),'nm'), batch_size=batch_size, shuffle=True, num_workers=0, drop_last=True)\n",
    "test_iter = DataLoader(mydata.MyDataset(\"test\",(54,55),(36,37),'nm'), batch_size=batch_size, shuffle=True, num_workers=0, drop_last=True)"
   ]
  },
  {
   "cell_type": "code",
   "execution_count": null,
   "id": "5b7731ce",
   "metadata": {},
   "outputs": [],
   "source": [
    "print(len(train_iter),len(test_iter))\n",
    "print(LBnet.parameters())"
   ]
  },
  {
   "cell_type": "code",
   "execution_count": null,
   "id": "014ec699",
   "metadata": {},
   "outputs": [],
   "source": [
    "def evaluate_accuracy_gpu(net, data_iter, device=None): #@save\n",
    "    \"\"\"使用GPU计算模型在数据集上的精度。\"\"\"\n",
    "    if isinstance(net, nn.Module):\n",
    "        net.eval()  # 设置为评估模式\n",
    "        if not device:\n",
    "            device = next(iter(net.parameters())).device\n",
    "    # 正确预测的数量，总预测的数量\n",
    "    metric = d2l.Accumulator(2)\n",
    "    with torch.no_grad():\n",
    "        for X, y in data_iter:\n",
    "            if isinstance(X, list):\n",
    "                # BERT微调所需的（之后将介绍）\n",
    "                X = [x.to(device) for x in X]\n",
    "            else:\n",
    "                X = X.to(device)\n",
    "            y = y.to(device)\n",
    "            metric.add(d2l.accuracy(net(X), y[:,1]), X.shape[0])\n",
    "    return metric[0] / metric[1]"
   ]
  },
  {
   "cell_type": "code",
   "execution_count": null,
   "id": "2a67fb5d",
   "metadata": {
    "scrolled": true
   },
   "outputs": [],
   "source": [
    "def train_ch6(net, train_iter, test_iter, num_epochs, lr, device,weight_decay, momentum):\n",
    "    \"\"\"用GPU训练模型(在第六章定义)。\"\"\"\n",
    "    def init_weights(m):\n",
    "        if type(m) == nn.Linear or type(m) == nn.Conv2d:\n",
    "            nn.init.xavier_uniform_(m.weight)\n",
    "    net.apply(init_weights)\n",
    "    print('training on', device)\n",
    "    net.to(device)\n",
    "    optimizer = torch.optim.SGD(net.parameters(), lr=lr, weight_decay=weight_decay, momentum = momentum )\n",
    "    loss = nn.BCEWithLogitsLoss()\n",
    "    animator = d2l.Animator(xlabel='epoch', xlim=[1, num_epochs],\n",
    "                            legend=['train loss', 'train acc', 'test acc'])\n",
    "    timer, num_batches = d2l.Timer(), len(train_iter)\n",
    "    for epoch in range(num_epochs):\n",
    "        # 训练损失之和，训练准确率之和，范例数\n",
    "        metric = d2l.Accumulator(3)\n",
    "        net.train()\n",
    "        for i, (X, y) in enumerate(train_iter):\n",
    "            timer.start()\n",
    "            optimizer.zero_grad()\n",
    "            X, y = X.to(device), y.to(device)\n",
    "            y_hat = net(X)\n",
    "            l = loss(y_hat, y)\n",
    "            l.backward()\n",
    "            optimizer.step()\n",
    "            with torch.no_grad():\n",
    "                metric.add(l * X.shape[0], d2l.accuracy(y_hat, y[:,1]), X.shape[0])\n",
    "            timer.stop()\n",
    "            train_l = metric[0] / metric[2]\n",
    "            train_acc = metric[1] / metric[2]\n",
    "            if (i + 1) % (num_batches // 5) == 0 or i == num_batches - 1:\n",
    "                animator.add(epoch + (i + 1) / num_batches,\n",
    "                             (train_l, train_acc, None))\n",
    "        test_acc = evaluate_accuracy_gpu(net, test_iter)\n",
    "        print(test_acc)\n",
    "        animator.add(epoch + 1, (None, None, test_acc))\n",
    "    print(f'loss {train_l:.3f}, train acc {train_acc:.3f}, '\n",
    "          f'test acc {test_acc:.3f}')\n",
    "    print(f'{metric[2] * num_epochs / timer.sum():.1f} examples/sec '\n",
    "          f'on {str(device)}')"
   ]
  },
  {
   "cell_type": "code",
   "execution_count": null,
   "id": "ce4c1f60",
   "metadata": {
    "scrolled": false
   },
   "outputs": [],
   "source": [
    "lr, num_epochs = 0.001, 50\n",
    "weight_decay, momentum = 0.0005, 0.9\n",
    "train_ch6(LBnet, train_iter, test_iter, num_epochs, lr, d2l.try_gpu(),weight_decay, momentum)"
   ]
  },
  {
   "cell_type": "code",
   "execution_count": null,
   "id": "af1ec7dd",
   "metadata": {
    "scrolled": true
   },
   "outputs": [],
   "source": [
    "test_iter2 = test_iter = DataLoader(mydata.MyDataset(\"test\",(18,18),(0,180),'nm'), batch_size=batch_size, shuffle=True, num_workers=0, drop_last=True)\n",
    "test_acc = evaluate_accuracy_gpu(LBnet, test_iter2)\n",
    "print(test_acc)"
   ]
  },
  {
   "cell_type": "code",
   "execution_count": null,
   "id": "6b61851e",
   "metadata": {},
   "outputs": [],
   "source": [
    "from PIL import Image\n",
    "import os\n",
    "from torchvision import transforms\n",
    "test_sample = mydata.get_test_sample(\"test\",(18,18),(0,180),'nm')\n",
    "right_num=[0,0]\n",
    "totensor = transforms.ToTensor()\n",
    "for sample in test_sample:\n",
    "    label_hay = []\n",
    "    for g in sample[1]:\n",
    "        if os.path.exists(sample[0]) ==False or os.path.exists(g) ==False:\n",
    "            break\n",
    "        img_tensor = torch.stack((totensor(Image.open(sample[0])),totensor(Image.open(g))),dim = 1)\n",
    "        label_s = LBnet(img_tensor)\n",
    "        if label_s[0][0]>label_s[0][1]:\n",
    "            label_hay.append(0)\n",
    "        else:\n",
    "            label_hay.append(1)\n",
    "    if len(label_hay)!=50:\n",
    "        continue\n",
    "    right_num[1]+=1\n",
    "    maxn = max(label_hay)\n",
    "    for i,x in enumerate(label_hay):\n",
    "        if label_hay[i-1]==maxn:\n",
    "            label_hay[i-1]=1\n",
    "        else:\n",
    "            label_hay[i-1]=0\n",
    "    if label_hay ==sample[2]:\n",
    "        right_num[0]+=1\n",
    "print(right_num[0]/right_num[1],right_num[0],right_num[1])"
   ]
  },
  {
   "cell_type": "code",
   "execution_count": null,
   "id": "446ae79e",
   "metadata": {},
   "outputs": [],
   "source": [
    "m_state_dict = torch.load(\"D:\\\\Learn_Project\\\\Gait_recognition\\\\LBnet_p0180_g0180_74p.pt\")\n",
    "LBnet.load_state_dict(m_state_dict)"
   ]
  },
  {
   "cell_type": "code",
   "execution_count": null,
   "id": "3a4f29ac",
   "metadata": {},
   "outputs": [],
   "source": [
    "# torch.save(LBnet.state_dict(), 'D:\\\\Learn_Project\\\\Gait_recognition\\\\LBnet_p36144_g36144_50p.pt')\n",
    "# torch.save(LBnet.state_dict(), 'D:\\\\Learn_Project\\\\Gait_recognition\\\\LBnet_p0180_g0180_50p.pt')\n",
    "# torch.save(LBnet.state_dict(), 'D:\\\\Learn_Project\\\\Gait_recognition\\\\LBnet_p6144_g6144_74p.pt')\n",
    "# torch.save(LBnet.state_dict(), 'D:\\\\Learn_Project\\\\Gait_recognition\\\\LBnet_p0180_g0180_74p.pt')"
   ]
  },
  {
   "cell_type": "code",
   "execution_count": null,
   "id": "9ab73423",
   "metadata": {},
   "outputs": [],
   "source": []
  }
 ],
 "metadata": {
  "kernelspec": {
   "display_name": "Python 3 (ipykernel)",
   "language": "python",
   "name": "python3"
  },
  "language_info": {
   "codemirror_mode": {
    "name": "ipython",
    "version": 3
   },
   "file_extension": ".py",
   "mimetype": "text/x-python",
   "name": "python",
   "nbconvert_exporter": "python",
   "pygments_lexer": "ipython3",
   "version": "3.8.12"
  }
 },
 "nbformat": 4,
 "nbformat_minor": 5
}
