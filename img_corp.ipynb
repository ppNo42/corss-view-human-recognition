{
 "cells": [
  {
   "cell_type": "code",
   "execution_count": 1,
   "id": "b5061259",
   "metadata": {},
   "outputs": [],
   "source": [
    "from PIL import Image\n",
    "import os"
   ]
  },
  {
   "cell_type": "code",
   "execution_count": 2,
   "id": "d9ab1b68",
   "metadata": {},
   "outputs": [],
   "source": [
    "def get_allfile(path):  # 获取所有文件\n",
    "    all_file = []\n",
    "    for f in os.listdir(path):  #listdir返回文件中所有目录\n",
    "        f_name = os.path.join(path, f)\n",
    "        all_file.append(f_name)\n",
    "    return all_file\n",
    "\n",
    "def img_crop(image):\n",
    "    image = image.crop((38,0,202,240))\n",
    "    image = image.resize((86,126))\n",
    "    return image\n",
    "\n",
    "row_data_path = '..\\\\data\\\\CASIABidentification'"
   ]
  },
  {
   "cell_type": "code",
   "execution_count": 3,
   "id": "8648d19c",
   "metadata": {},
   "outputs": [],
   "source": [
    "new_data_path = row_data_path + '_cropped'\n",
    "if os.path.exists(new_data_path) == False:\n",
    "    os.mkdir(new_data_path)\n",
    "\n",
    "all_file = get_allfile(row_data_path)\n",
    "for file in all_file:\n",
    "    pid = os.path.basename(file)\n",
    "    new_file_pid_path = os.path.join(new_data_path , pid)\n",
    "    if os.path.exists(new_file_pid_path) == False:\n",
    "        os.mkdir(new_file_pid_path)\n",
    "    all_file_pid = get_allfile(file)\n",
    "    for img_pathname in all_file_pid:\n",
    "        img_name = os.path.basename(img_pathname)\n",
    "        img = Image.open(img_pathname)\n",
    "        img_crop(img).save(os.path.join(new_file_pid_path,img_name))\n"
   ]
  },
  {
   "cell_type": "code",
   "execution_count": null,
   "id": "372400ed",
   "metadata": {},
   "outputs": [],
   "source": []
  }
 ],
 "metadata": {
  "kernelspec": {
   "display_name": "Python 3 (ipykernel)",
   "language": "python",
   "name": "python3"
  },
  "language_info": {
   "codemirror_mode": {
    "name": "ipython",
    "version": 3
   },
   "file_extension": ".py",
   "mimetype": "text/x-python",
   "name": "python",
   "nbconvert_exporter": "python",
   "pygments_lexer": "ipython3",
   "version": "3.8.12"
  }
 },
 "nbformat": 4,
 "nbformat_minor": 5
}
